{
  "nbformat": 4,
  "nbformat_minor": 0,
  "metadata": {
    "colab": {
      "provenance": [],
      "gpuType": "T4"
    },
    "kernelspec": {
      "name": "python3",
      "display_name": "Python 3"
    },
    "language_info": {
      "name": "python"
    },
    "accelerator": "GPU"
  },
  "cells": [
    {
      "cell_type": "code",
      "execution_count": null,
      "metadata": {
        "id": "t5u2t3xn4Ouy",
        "colab": {
          "base_uri": "https://localhost:8080/"
        },
        "outputId": "f55f492f-71b0-46b3-f73c-bfa3e44251e0"
      },
      "outputs": [
        {
          "output_type": "stream",
          "name": "stdout",
          "text": [
            "2.14.0\n"
          ]
        }
      ],
      "source": [
        "import tensorflow as tf\n",
        "print(tf.__version__)"
      ]
    },
    {
      "cell_type": "code",
      "source": [
        "### sentences\n",
        "sent=[\n",
        "    'the glass of milk',\n",
        "     'the glass of juice',\n",
        "     'the cup of tea',\n",
        "    'I am a good girl',\n",
        "     'I am a good developer',\n",
        "     'understand the meaning of words',\n",
        "     'your videos are good']"
      ],
      "metadata": {
        "id": "0Sn8RXbWzffZ"
      },
      "execution_count": null,
      "outputs": []
    },
    {
      "cell_type": "code",
      "source": [
        "# vocab size:\n",
        "voc_size = 100"
      ],
      "metadata": {
        "id": "SmIWi_4M0R6T"
      },
      "execution_count": 21,
      "outputs": []
    },
    {
      "cell_type": "code",
      "source": [
        "# one hot representation:\n",
        "from tensorflow.keras.preprocessing.text import one_hot\n",
        "\n",
        "\n",
        "one_hot_repo = [one_hot(words, voc_size) for words in sent]\n",
        "print(one_hot_repo)"
      ],
      "metadata": {
        "colab": {
          "base_uri": "https://localhost:8080/"
        },
        "id": "Cso5AZxA0ZB8",
        "outputId": "7fd6a41a-7037-4029-e785-6d098f37732e"
      },
      "execution_count": 22,
      "outputs": [
        {
          "output_type": "stream",
          "name": "stdout",
          "text": [
            "[[10, 47, 73, 45], [10, 47, 73, 24], [10, 64, 73, 97], [76, 85, 77, 64, 80], [76, 85, 77, 64, 17], [27, 10, 2, 73, 48], [80, 5, 93, 64]]\n"
          ]
        }
      ]
    },
    {
      "cell_type": "code",
      "source": [
        "# Word embedding representation:\n",
        "\n",
        "from tensorflow.keras.layers import Embedding\n",
        "from tensorflow.keras.preprocessing.sequence import pad_sequences\n",
        "from tensorflow.keras.models import Sequential\n",
        "\n",
        "import numpy as np"
      ],
      "metadata": {
        "id": "mhSKJd990cIF"
      },
      "execution_count": 23,
      "outputs": []
    },
    {
      "cell_type": "code",
      "source": [
        "# pre padding the sequences based on the max lenght of the sentence\n",
        "\n",
        "sent_len = max([len(text) for text in sent])\n",
        "print(\"maximum sentence length\", sent_len)\n",
        "\n",
        "embedded_docs = pad_sequences(one_hot_repo, padding=\"pre\", maxlen=8)\n",
        "print(embedded_docs)"
      ],
      "metadata": {
        "colab": {
          "base_uri": "https://localhost:8080/"
        },
        "id": "JP_Oordv1e12",
        "outputId": "c8270491-fb53-4685-d1aa-c60a38e8fd18"
      },
      "execution_count": 25,
      "outputs": [
        {
          "output_type": "stream",
          "name": "stdout",
          "text": [
            "maximum sentence length 31\n",
            "[[ 0  0  0  0 10 47 73 45]\n",
            " [ 0  0  0  0 10 47 73 24]\n",
            " [ 0  0  0  0 10 64 73 97]\n",
            " [ 0  0  0 76 85 77 64 80]\n",
            " [ 0  0  0 76 85 77 64 17]\n",
            " [ 0  0  0 27 10  2 73 48]\n",
            " [ 0  0  0  0 80  5 93 64]]\n"
          ]
        }
      ]
    },
    {
      "cell_type": "code",
      "source": [
        "  # dimensionality of feature space:\n",
        "  dim = 10\n",
        "\n",
        "  model = Sequential()\n",
        "  model.add(Embedding(voc_size, 10, input_length=8))\n",
        "  model.compile(\"adam\", \"mse\")"
      ],
      "metadata": {
        "id": "ZLoBPjPC2eSu"
      },
      "execution_count": 26,
      "outputs": []
    },
    {
      "cell_type": "code",
      "source": [
        "model.summary()"
      ],
      "metadata": {
        "colab": {
          "base_uri": "https://localhost:8080/"
        },
        "id": "72X_7j4B24CG",
        "outputId": "4e304307-1bda-412f-e6d6-14c537f68110"
      },
      "execution_count": 27,
      "outputs": [
        {
          "output_type": "stream",
          "name": "stdout",
          "text": [
            "Model: \"sequential_1\"\n",
            "_________________________________________________________________\n",
            " Layer (type)                Output Shape              Param #   \n",
            "=================================================================\n",
            " embedding_1 (Embedding)     (None, 8, 10)             1000      \n",
            "                                                                 \n",
            "=================================================================\n",
            "Total params: 1000 (3.91 KB)\n",
            "Trainable params: 1000 (3.91 KB)\n",
            "Non-trainable params: 0 (0.00 Byte)\n",
            "_________________________________________________________________\n"
          ]
        }
      ]
    },
    {
      "cell_type": "code",
      "source": [
        "# the glass of milk:\n",
        "embedded_docs[0]"
      ],
      "metadata": {
        "colab": {
          "base_uri": "https://localhost:8080/"
        },
        "id": "Tzov0Iz226wL",
        "outputId": "7af9cc4d-eceb-472d-daf7-2e36a2d45fef"
      },
      "execution_count": 28,
      "outputs": [
        {
          "output_type": "execute_result",
          "data": {
            "text/plain": [
              "array([ 0,  0,  0,  0, 10, 47, 73, 45], dtype=int32)"
            ]
          },
          "metadata": {},
          "execution_count": 28
        }
      ]
    },
    {
      "cell_type": "code",
      "source": [
        "model.predict(embedded_docs[0])"
      ],
      "metadata": {
        "colab": {
          "base_uri": "https://localhost:8080/"
        },
        "id": "ArzNGtOr3FM6",
        "outputId": "b6ce2038-0e4a-418e-96d7-9968e2e32fe6"
      },
      "execution_count": 29,
      "outputs": [
        {
          "output_type": "stream",
          "name": "stdout",
          "text": [
            "1/1 [==============================] - 0s 34ms/step\n"
          ]
        },
        {
          "output_type": "execute_result",
          "data": {
            "text/plain": [
              "array([[-0.01677557,  0.03299003, -0.0186121 ,  0.02193265, -0.04520833,\n",
              "         0.03165983, -0.01471316,  0.01894556, -0.01451863,  0.02392128],\n",
              "       [-0.01677557,  0.03299003, -0.0186121 ,  0.02193265, -0.04520833,\n",
              "         0.03165983, -0.01471316,  0.01894556, -0.01451863,  0.02392128],\n",
              "       [-0.01677557,  0.03299003, -0.0186121 ,  0.02193265, -0.04520833,\n",
              "         0.03165983, -0.01471316,  0.01894556, -0.01451863,  0.02392128],\n",
              "       [-0.01677557,  0.03299003, -0.0186121 ,  0.02193265, -0.04520833,\n",
              "         0.03165983, -0.01471316,  0.01894556, -0.01451863,  0.02392128],\n",
              "       [-0.00720229,  0.01513748, -0.0218393 , -0.0117363 , -0.04886066,\n",
              "        -0.0269899 ,  0.00358529,  0.02911979,  0.00157863, -0.04853464],\n",
              "       [ 0.04718852,  0.02936572,  0.04622242,  0.04701862, -0.0285779 ,\n",
              "         0.0441618 , -0.02152087, -0.00475911, -0.02696202, -0.02393624],\n",
              "       [ 0.04767667,  0.00197822, -0.02165102,  0.02138964, -0.03157143,\n",
              "         0.0378775 ,  0.01382214, -0.03421252, -0.03648723,  0.01226266],\n",
              "       [ 0.02290643,  0.0394288 ,  0.04032366, -0.00043573, -0.0248462 ,\n",
              "        -0.04448016, -0.01008039,  0.00363108, -0.03056163, -0.0363709 ]],\n",
              "      dtype=float32)"
            ]
          },
          "metadata": {},
          "execution_count": 29
        }
      ]
    },
    {
      "cell_type": "code",
      "source": [
        "sent=[\"The world is a better place\",\n",
        "      \"Marvel series is my favourite movie\",\n",
        "      \"I like DC movies\",\n",
        "      \"the cat is eating the food\",\n",
        "      \"Tom and Jerry is my favourite movie\",\n",
        "      \"Python is my favourite programming language\"\n",
        "      ]"
      ],
      "metadata": {
        "id": "ZRt3SLwK3Jg2"
      },
      "execution_count": 30,
      "outputs": []
    },
    {
      "cell_type": "code",
      "source": [
        "vocab_size=500\n",
        "\n",
        "one_hot = [one_hot(word, vocab_size) for word in sent]\n",
        "print(one_hot)"
      ],
      "metadata": {
        "colab": {
          "base_uri": "https://localhost:8080/"
        },
        "id": "renocmMdDfH7",
        "outputId": "eed78e2a-3dfc-4072-b357-a18eacd395fe"
      },
      "execution_count": 32,
      "outputs": [
        {
          "output_type": "stream",
          "name": "stdout",
          "text": [
            "[[11, 457, 480, 490, 376, 78], [366, 418, 480, 114, 131, 499], [136, 374, 130, 338], [11, 214, 480, 357, 11, 468], [201, 132, 171, 480, 114, 131, 499], [232, 480, 114, 131, 444, 309]]\n"
          ]
        }
      ]
    },
    {
      "cell_type": "code",
      "source": [
        "embedded_doc = pad_sequences(one_hot, maxlen=12, padding='pre')\n",
        "print(embedded_doc)"
      ],
      "metadata": {
        "colab": {
          "base_uri": "https://localhost:8080/"
        },
        "id": "iuTm3Lj_DumY",
        "outputId": "04439107-f39f-4268-ad0b-b6cd5da976aa"
      },
      "execution_count": 35,
      "outputs": [
        {
          "output_type": "stream",
          "name": "stdout",
          "text": [
            "[[  0   0   0   0   0   0  11 457 480 490 376  78]\n",
            " [  0   0   0   0   0   0 366 418 480 114 131 499]\n",
            " [  0   0   0   0   0   0   0   0 136 374 130 338]\n",
            " [  0   0   0   0   0   0  11 214 480 357  11 468]\n",
            " [  0   0   0   0   0 201 132 171 480 114 131 499]\n",
            " [  0   0   0   0   0   0 232 480 114 131 444 309]]\n"
          ]
        }
      ]
    },
    {
      "cell_type": "code",
      "source": [
        "dimension = 10\n",
        "\n",
        "model = Sequential()\n",
        "model.add(Embedding(vocab_size, dimension, input_length=12))\n",
        "model.compile('adam', 'mse')\n",
        "\n",
        "model.summary()"
      ],
      "metadata": {
        "colab": {
          "base_uri": "https://localhost:8080/"
        },
        "id": "N9vfLNdyFCC3",
        "outputId": "328a7a85-a531-4fe1-a6eb-9ee07585a6fd"
      },
      "execution_count": 37,
      "outputs": [
        {
          "output_type": "stream",
          "name": "stdout",
          "text": [
            "Model: \"sequential_3\"\n",
            "_________________________________________________________________\n",
            " Layer (type)                Output Shape              Param #   \n",
            "=================================================================\n",
            " embedding_2 (Embedding)     (None, 12, 10)            5000      \n",
            "                                                                 \n",
            "=================================================================\n",
            "Total params: 5000 (19.53 KB)\n",
            "Trainable params: 5000 (19.53 KB)\n",
            "Non-trainable params: 0 (0.00 Byte)\n",
            "_________________________________________________________________\n"
          ]
        }
      ]
    },
    {
      "cell_type": "code",
      "source": [
        "model.predict(embedded_doc[0])"
      ],
      "metadata": {
        "colab": {
          "base_uri": "https://localhost:8080/"
        },
        "id": "LFUjMvJnJCMv",
        "outputId": "2920e177-6789-426d-8818-9cfef45c6ea4"
      },
      "execution_count": 38,
      "outputs": [
        {
          "output_type": "stream",
          "name": "stdout",
          "text": [
            "1/1 [==============================] - 0s 33ms/step\n"
          ]
        },
        {
          "output_type": "execute_result",
          "data": {
            "text/plain": [
              "array([[ 2.7759783e-03, -2.4923563e-02, -2.4720693e-02,  9.8040923e-03,\n",
              "         1.0775007e-02, -3.6354125e-02,  2.4775241e-02,  4.8154164e-02,\n",
              "        -3.9886642e-02,  1.7937336e-02],\n",
              "       [ 2.7759783e-03, -2.4923563e-02, -2.4720693e-02,  9.8040923e-03,\n",
              "         1.0775007e-02, -3.6354125e-02,  2.4775241e-02,  4.8154164e-02,\n",
              "        -3.9886642e-02,  1.7937336e-02],\n",
              "       [ 2.7759783e-03, -2.4923563e-02, -2.4720693e-02,  9.8040923e-03,\n",
              "         1.0775007e-02, -3.6354125e-02,  2.4775241e-02,  4.8154164e-02,\n",
              "        -3.9886642e-02,  1.7937336e-02],\n",
              "       [ 2.7759783e-03, -2.4923563e-02, -2.4720693e-02,  9.8040923e-03,\n",
              "         1.0775007e-02, -3.6354125e-02,  2.4775241e-02,  4.8154164e-02,\n",
              "        -3.9886642e-02,  1.7937336e-02],\n",
              "       [ 2.7759783e-03, -2.4923563e-02, -2.4720693e-02,  9.8040923e-03,\n",
              "         1.0775007e-02, -3.6354125e-02,  2.4775241e-02,  4.8154164e-02,\n",
              "        -3.9886642e-02,  1.7937336e-02],\n",
              "       [ 2.7759783e-03, -2.4923563e-02, -2.4720693e-02,  9.8040923e-03,\n",
              "         1.0775007e-02, -3.6354125e-02,  2.4775241e-02,  4.8154164e-02,\n",
              "        -3.9886642e-02,  1.7937336e-02],\n",
              "       [-2.4026418e-02, -2.3861043e-03,  1.4042664e-02,  3.7242007e-02,\n",
              "        -2.5943602e-02, -1.8477488e-02, -4.2102505e-02, -4.5018472e-02,\n",
              "        -3.6448836e-02, -2.1267761e-02],\n",
              "       [-4.7750652e-02, -3.0953860e-02, -3.8060617e-02, -9.8166950e-03,\n",
              "         2.3604397e-02, -1.1782814e-02, -4.7842156e-02,  4.8249628e-02,\n",
              "        -2.9008126e-02,  5.7829246e-03],\n",
              "       [ 2.1632995e-02,  1.8532548e-02, -2.3470689e-02,  1.0004222e-02,\n",
              "        -2.4156976e-02, -2.7683318e-02, -1.7529607e-02,  3.1735588e-02,\n",
              "        -4.7573078e-02, -2.1362770e-02],\n",
              "       [-3.6194850e-02, -4.6426024e-02, -4.6962656e-02,  9.0480074e-03,\n",
              "        -3.6623456e-02, -1.7941378e-02,  4.1133165e-03, -3.5373818e-02,\n",
              "         2.0584438e-02, -3.8946010e-02],\n",
              "       [ 1.7734278e-02,  3.2199252e-02,  3.8606334e-02, -1.0537554e-02,\n",
              "         4.4623386e-02, -4.6959866e-02, -3.0623829e-02, -2.0704245e-02,\n",
              "         5.6527145e-03, -8.8476017e-04],\n",
              "       [-2.4536002e-02,  4.3078076e-02, -4.9924280e-02, -2.6524210e-02,\n",
              "         9.1486350e-03,  4.4866096e-02, -9.1087073e-05, -1.5421201e-02,\n",
              "         1.7489519e-02, -1.1510625e-03]], dtype=float32)"
            ]
          },
          "metadata": {},
          "execution_count": 38
        }
      ]
    },
    {
      "cell_type": "code",
      "source": [],
      "metadata": {
        "id": "vh2WjisXJOJz"
      },
      "execution_count": null,
      "outputs": []
    }
  ]
}